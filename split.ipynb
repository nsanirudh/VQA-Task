{
 "cells": [
  {
   "cell_type": "code",
   "execution_count": 2,
   "metadata": {},
   "outputs": [],
   "source": [
    "import os\n",
    "import cv2"
   ]
  },
  {
   "cell_type": "code",
   "execution_count": 5,
   "metadata": {},
   "outputs": [
    {
     "name": "stdout",
     "output_type": "stream",
     "text": [
      "14782\n"
     ]
    }
   ],
   "source": [
    "target = 'target'\n",
    "image_files = [i for i in os.listdir('images') if i.endswith('png')]\n",
    "print(len(image_files))"
   ]
  },
  {
   "cell_type": "code",
   "execution_count": 7,
   "metadata": {},
   "outputs": [
    {
     "name": "stdout",
     "output_type": "stream",
     "text": [
      "{'Question': 'Are there any metallic spheres in front of the thing that is in front of the big thing that is on the right side of the big cyan metal object?', 'Image': 'CLEVR_new_000000', 'Answer': False}\n"
     ]
    }
   ],
   "source": [
    "import numpy as np\n",
    "import json\n",
    "\n",
    "image_files = np.array(image_files)\n",
    "\n",
    "p = np.random.permutation(len(image_files))\n",
    "image_files = image_files[p]\n",
    "\n",
    "split = int(0.7*len(image_files))\n",
    "\n",
    "train, val, test = image_files[:split], image_files[split:int(0.9*len(image_files))], image_files[int(0.9*len(image_files)):]\n",
    "\n",
    "with open('Quest_Answers.json') as f:\n",
    "    json_data = json.load(f)\n",
    "    \n",
    "print(json_data['quest_answers'][1])\n",
    "\n",
    "quest_ans = json_data['quest_answers']"
   ]
  },
  {
   "cell_type": "code",
   "execution_count": 16,
   "metadata": {},
   "outputs": [
    {
     "name": "stdout",
     "output_type": "stream",
     "text": [
      "0\n",
      "1000\n",
      "2000\n"
     ]
    }
   ],
   "source": [
    "test_json = list()\n",
    "\n",
    "for e,i in enumerate(val):\n",
    "    if e%1000==0:\n",
    "        print(e)\n",
    "    for q_a in quest_ans:\n",
    "        if q_a['Image'] == i.replace('.png',''):\n",
    "            test_json.append(q_a)\n",
    "\n",
    "train_dict = {'info': 'any', 'quest_answers': test_json}\n"
   ]
  },
  {
   "cell_type": "code",
   "execution_count": 11,
   "metadata": {},
   "outputs": [
    {
     "data": {
      "text/plain": [
       "94560"
      ]
     },
     "execution_count": 11,
     "metadata": {},
     "output_type": "execute_result"
    }
   ],
   "source": [
    "len(train_json)"
   ]
  },
  {
   "cell_type": "code",
   "execution_count": 17,
   "metadata": {},
   "outputs": [],
   "source": [
    "with open('target/val.json','w') as f:\n",
    "    json.dump(train_dict, f)"
   ]
  },
  {
   "cell_type": "code",
   "execution_count": 24,
   "metadata": {},
   "outputs": [],
   "source": [
    "import shutil\n",
    "\n",
    "for i in test:\n",
    "    shutil.copy(os.path.join('images',i),os.path.join('target/test',i))"
   ]
  },
  {
   "cell_type": "code",
   "execution_count": null,
   "metadata": {
    "collapsed": true
   },
   "outputs": [],
   "source": []
  }
 ],
 "metadata": {
  "kernelspec": {
   "display_name": "Python 3",
   "language": "python",
   "name": "python3"
  },
  "language_info": {
   "codemirror_mode": {
    "name": "ipython",
    "version": 3
   },
   "file_extension": ".py",
   "mimetype": "text/x-python",
   "name": "python",
   "nbconvert_exporter": "python",
   "pygments_lexer": "ipython3",
   "version": "3.6.1"
  }
 },
 "nbformat": 4,
 "nbformat_minor": 2
}
